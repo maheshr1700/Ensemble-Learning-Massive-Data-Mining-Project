{
 "cells": [
  {
   "cell_type": "code",
   "execution_count": 1,
   "metadata": {
    "id": "zPufF4_9A26J"
   },
   "outputs": [],
   "source": [
    "# importing necessary packages\n",
    "import pandas as pd\n",
    "import numpy as np\n",
    "from sklearn.metrics import mean_absolute_error\n",
    "from sklearn.metrics import mean_squared_error\n",
    "from math import sqrt"
   ]
  },
  {
   "cell_type": "code",
   "execution_count": 2,
   "metadata": {
    "colab": {
     "base_uri": "https://localhost:8080/"
    },
    "id": "9fqBr48FBO3C",
    "outputId": "2dfd5c7b-8f87-463e-f041-404814b26702"
   },
   "outputs": [
    {
     "name": "stdout",
     "output_type": "stream",
     "text": [
      "Mounted at /content/gdrive\n"
     ]
    }
   ],
   "source": [
    "from google.colab import drive\n",
    "\n",
    "drive.mount('/content/gdrive')"
   ]
  },
  {
   "cell_type": "code",
   "execution_count": 17,
   "metadata": {
    "colab": {
     "base_uri": "https://localhost:8080/",
     "height": 195
    },
    "id": "S4qyaj4rBPC2",
    "outputId": "b5073aaf-f8aa-4f1e-80f6-e9526972daf6"
   },
   "outputs": [
    {
     "data": {
      "text/html": [
       "<div>\n",
       "<style scoped>\n",
       "    .dataframe tbody tr th:only-of-type {\n",
       "        vertical-align: middle;\n",
       "    }\n",
       "\n",
       "    .dataframe tbody tr th {\n",
       "        vertical-align: top;\n",
       "    }\n",
       "\n",
       "    .dataframe thead th {\n",
       "        text-align: right;\n",
       "    }\n",
       "</style>\n",
       "<table border=\"1\" class=\"dataframe\">\n",
       "  <thead>\n",
       "    <tr style=\"text-align: right;\">\n",
       "      <th></th>\n",
       "      <th>userId</th>\n",
       "      <th>movieId</th>\n",
       "      <th>predicted_rating</th>\n",
       "      <th>true_rating</th>\n",
       "    </tr>\n",
       "  </thead>\n",
       "  <tbody>\n",
       "    <tr>\n",
       "      <th>0</th>\n",
       "      <td>1</td>\n",
       "      <td>1193</td>\n",
       "      <td>4.600525</td>\n",
       "      <td>5</td>\n",
       "    </tr>\n",
       "    <tr>\n",
       "      <th>1</th>\n",
       "      <td>1</td>\n",
       "      <td>3408</td>\n",
       "      <td>4.184837</td>\n",
       "      <td>4</td>\n",
       "    </tr>\n",
       "    <tr>\n",
       "      <th>2</th>\n",
       "      <td>1</td>\n",
       "      <td>919</td>\n",
       "      <td>4.667060</td>\n",
       "      <td>4</td>\n",
       "    </tr>\n",
       "    <tr>\n",
       "      <th>3</th>\n",
       "      <td>1</td>\n",
       "      <td>2797</td>\n",
       "      <td>4.214397</td>\n",
       "      <td>4</td>\n",
       "    </tr>\n",
       "    <tr>\n",
       "      <th>4</th>\n",
       "      <td>1</td>\n",
       "      <td>720</td>\n",
       "      <td>4.659941</td>\n",
       "      <td>3</td>\n",
       "    </tr>\n",
       "  </tbody>\n",
       "</table>\n",
       "</div>"
      ],
      "text/plain": [
       "   userId  movieId  predicted_rating  true_rating\n",
       "0       1     1193          4.600525            5\n",
       "1       1     3408          4.184837            4\n",
       "2       1      919          4.667060            4\n",
       "3       1     2797          4.214397            4\n",
       "4       1      720          4.659941            3"
      ]
     },
     "execution_count": 17,
     "metadata": {
      "tags": []
     },
     "output_type": "execute_result"
    }
   ],
   "source": [
    "# Loading the predicted and true ratings .csv file into a dataframe\n",
    "#alg = \"SVD\"\n",
    "#alg = \"NMF\"\n",
    "#alg = 'CoClustering'\n",
    "alg = 'KNNBaseline'\n",
    "#alg = 'NeuralNet_Prediction'\n",
    "#alg = 'Ensemble'\n",
    "predicted_dataframe = pd.read_csv('/content/gdrive/My Drive/'+ alg +'.csv')\n",
    "predicted_dataframe.head()"
   ]
  },
  {
   "cell_type": "code",
   "execution_count": 18,
   "metadata": {
    "colab": {
     "base_uri": "https://localhost:8080/"
    },
    "id": "xvLSpOG5BPNC",
    "outputId": "e8859a4a-d733-46ef-b719-c6271ab1952d"
   },
   "outputs": [
    {
     "name": "stderr",
     "output_type": "stream",
     "text": [
      "/usr/local/lib/python3.7/dist-packages/ipykernel_launcher.py:2: ParserWarning: Falling back to the 'python' engine because the 'c' engine does not support regex separators (separators > 1 char and different from '\\s+' are interpreted as regex); you can avoid this warning by specifying engine='python'.\n",
      "  \n"
     ]
    }
   ],
   "source": [
    "# loading movies dataset into a file\n",
    "movies_dataframe = pd.read_csv('/content/gdrive/My Drive/movies.dat', sep='::', usecols=[0,1], names=['movieId', 'title'])\n",
    "dict_movies = pd.Series(movies_dataframe['title'].values,index=movies_dataframe['movieId']).to_dict()"
   ]
  },
  {
   "cell_type": "code",
   "execution_count": 19,
   "metadata": {
    "id": "jsxBZk-yBPWU"
   },
   "outputs": [],
   "source": [
    "# code to get all users form the dataframe\n",
    "users = predicted_dataframe['userId'].unique().tolist()"
   ]
  },
  {
   "cell_type": "code",
   "execution_count": 20,
   "metadata": {
    "id": "RGIPR58UDSGg"
   },
   "outputs": [],
   "source": [
    "# code to get sorted list of recommendations for each user id\n",
    "dataframe_1 = predicted_dataframe[['userId', 'movieId', 'predicted_rating']]\n",
    "dataframe_1['predicted_movies'] = dataframe_1.apply(lambda x: (x['movieId'], x['predicted_rating']), axis=1)\n",
    "dataframe_2 = dataframe_1[['userId', 'predicted_movies']]\n",
    "dataframe_sort = dataframe_2.groupby('userId')['predicted_movies'].apply(list).reset_index(name='recommendation')\n",
    "# sorting\n",
    "dataframe_sort['recommendation'] = dataframe_sort['recommendation'].apply( lambda x: sorted(x, key=lambda tup: tup[1], reverse=True) )\n",
    "recommendation_userid_sort = pd.Series(dataframe_sort['recommendation'].values,index=dataframe_sort['userId']).to_dict()"
   ]
  },
  {
   "cell_type": "code",
   "execution_count": 21,
   "metadata": {
    "id": "2IcaNCWJDfHB"
   },
   "outputs": [],
   "source": [
    "# code to get sorted list of ratings for each user\n",
    "true_dataframe = predicted_dataframe[['userId', 'movieId', 'true_rating']]\n",
    "true_dataframe['movies'] = true_dataframe.apply(lambda x: (x['movieId'], x['true_rating']), axis=1)\n",
    "true_dataframe_1 = true_dataframe[['userId', 'movies']]\n",
    "true_dataframe_sort = true_dataframe_1.groupby('userId')['movies'].apply(list).reset_index(name='recommendation')\n",
    "# sorting\n",
    "true_dataframe_sort['recommendation'] = true_dataframe_sort['recommendation'].apply(lambda x: sorted(x, key=lambda tup: tup[1], reverse=True))\n",
    "true_rating_userid_sort = pd.Series(true_dataframe_sort['recommendation'].values,index=true_dataframe_sort['userId']).to_dict()"
   ]
  },
  {
   "cell_type": "code",
   "execution_count": 22,
   "metadata": {
    "id": "bne4JCM2DlT7"
   },
   "outputs": [],
   "source": [
    "# function to return top 10 recommendations\n",
    "def n_top_recommendation(user, n=10):\n",
    "  n_top_rec = recommendation_userid_sort[user][:n]\n",
    "  return [dict_movies[int(x[0])] for x in n_top_rec]\n",
    "\n",
    "# function to return top 10 true ratings\n",
    "def n_top_true_ratings(user, n=10):\n",
    "  n_top_ratings = true_rating_userid_sort[user][:n]\n",
    "  return [dict_movies[int(x[0])] for x in n_top_ratings]"
   ]
  },
  {
   "cell_type": "code",
   "execution_count": 23,
   "metadata": {
    "colab": {
     "base_uri": "https://localhost:8080/",
     "height": 195
    },
    "id": "PA44Od74Dups",
    "outputId": "63425d84-b428-4c5d-f3c5-8557660eadb4"
   },
   "outputs": [
    {
     "data": {
      "text/html": [
       "<div>\n",
       "<style scoped>\n",
       "    .dataframe tbody tr th:only-of-type {\n",
       "        vertical-align: middle;\n",
       "    }\n",
       "\n",
       "    .dataframe tbody tr th {\n",
       "        vertical-align: top;\n",
       "    }\n",
       "\n",
       "    .dataframe thead th {\n",
       "        text-align: right;\n",
       "    }\n",
       "</style>\n",
       "<table border=\"1\" class=\"dataframe\">\n",
       "  <thead>\n",
       "    <tr style=\"text-align: right;\">\n",
       "      <th></th>\n",
       "      <th>userId</th>\n",
       "      <th>precision_user</th>\n",
       "      <th>recall_user</th>\n",
       "    </tr>\n",
       "  </thead>\n",
       "  <tbody>\n",
       "    <tr>\n",
       "      <th>0</th>\n",
       "      <td>1</td>\n",
       "      <td>0.9</td>\n",
       "      <td>0.9</td>\n",
       "    </tr>\n",
       "    <tr>\n",
       "      <th>1</th>\n",
       "      <td>2</td>\n",
       "      <td>0.7</td>\n",
       "      <td>0.7</td>\n",
       "    </tr>\n",
       "    <tr>\n",
       "      <th>2</th>\n",
       "      <td>3</td>\n",
       "      <td>1.0</td>\n",
       "      <td>1.0</td>\n",
       "    </tr>\n",
       "    <tr>\n",
       "      <th>3</th>\n",
       "      <td>4</td>\n",
       "      <td>1.0</td>\n",
       "      <td>1.0</td>\n",
       "    </tr>\n",
       "    <tr>\n",
       "      <th>4</th>\n",
       "      <td>5</td>\n",
       "      <td>0.3</td>\n",
       "      <td>0.3</td>\n",
       "    </tr>\n",
       "  </tbody>\n",
       "</table>\n",
       "</div>"
      ],
      "text/plain": [
       "   userId  precision_user  recall_user\n",
       "0       1             0.9          0.9\n",
       "1       2             0.7          0.7\n",
       "2       3             1.0          1.0\n",
       "3       4             1.0          1.0\n",
       "4       5             0.3          0.3"
      ]
     },
     "execution_count": 23,
     "metadata": {
      "tags": []
     },
     "output_type": "execute_result"
    }
   ],
   "source": [
    "# code to calculate the precision and recall values of each user\n",
    "n_top_recommendation_user = {}\n",
    "out_u = []\n",
    "for u in users:\n",
    "  list_out = []\n",
    "  # appending each user to the users list\n",
    "  list_out.append(u)\n",
    "  # top n recommendations (n = 10 by default)\n",
    "  n_top_reco_for_user = n_top_recommendation(u)\n",
    "  n_top_recommendation_user[u] = n_top_reco_for_user\n",
    "  n_top_trueratings_user = n_top_true_ratings(u)\n",
    "  # claculating true positives, false positives, false negatives\n",
    "  tp = list(set(n_top_reco_for_user) & set(n_top_trueratings_user))\n",
    "  fp = list(set(n_top_reco_for_user) - set(n_top_trueratings_user))\n",
    "  fn = list(set(n_top_trueratings_user) - set(n_top_reco_for_user))\n",
    "  # calculating precision for user\n",
    "  precision_for_user = len(tp) / float(len(tp) + len(fp))\n",
    "  list_out.append(precision_for_user)\n",
    "  # calculating recall for user\n",
    "  recall_for_user = len(tp) / float(len(tp) + len(fn))\n",
    "  list_out.append(recall_for_user)\n",
    "  # appending each list to the final list named out_u\n",
    "  out_u.append(list_out)\n",
    "\n",
    "# final dataframe with precision and recall values of each user\n",
    "dataframe_final = pd.DataFrame(out_u, columns=['userId', 'precision_user', 'recall_user'])\n",
    "dataframe_final.head()"
   ]
  },
  {
   "cell_type": "code",
   "execution_count": 24,
   "metadata": {
    "colab": {
     "base_uri": "https://localhost:8080/"
    },
    "id": "pbdV08ODEjuI",
    "outputId": "afbdb572-c82b-44bd-a0b1-82cab317e38d"
   },
   "outputs": [
    {
     "data": {
      "text/plain": [
       "[\"Schindler's List (1993)\",\n",
       " 'Wizard of Oz, The (1939)',\n",
       " 'Wallace & Gromit: The Best of Aardman Animation (1996)',\n",
       " 'To Kill a Mockingbird (1962)',\n",
       " \"One Flew Over the Cuckoo's Nest (1975)\",\n",
       " 'Star Wars: Episode IV - A New Hope (1977)',\n",
       " 'Apollo 13 (1995)',\n",
       " 'Big (1988)',\n",
       " 'Erin Brockovich (2000)',\n",
       " 'Secret Garden, The (1993)']"
      ]
     },
     "execution_count": 24,
     "metadata": {
      "tags": []
     },
     "output_type": "execute_result"
    }
   ],
   "source": [
    "# top 10 recommendations of the given user(top user)\n",
    "n_top_recommendation_user[1]"
   ]
  },
  {
   "cell_type": "code",
   "execution_count": 25,
   "metadata": {
    "colab": {
     "base_uri": "https://localhost:8080/"
    },
    "id": "ok7rLQVjEulE",
    "outputId": "57d0ddd0-7452-4b35-a6e8-519b48302981"
   },
   "outputs": [
    {
     "name": "stdout",
     "output_type": "stream",
     "text": [
      "Root Mean Squared error of KNNBaseline is: 0.8941181958617168\n",
      "Mean absolute error of KNNBaseline is: 0.7053814616839117\n",
      "Average precision of KNNBaseline is: 0.6778973509933801\n",
      "Average recall of KNNBaseline is: 0.6778973509933801\n",
      "F-measure of KNNBaseline is: 0.6778973509933801\n"
     ]
    }
   ],
   "source": [
    "# code to calculate Mean absolute error, Root mean squared error, Precision, F-measure, Recall\n",
    "\n",
    "# Root mean squared error code\n",
    "root_mean_square_err = sqrt(mean_squared_error(predicted_dataframe['true_rating'], predicted_dataframe['predicted_rating']))\n",
    "print('Root Mean Squared error of ' + alg + ' is:', root_mean_square_err)\n",
    "\n",
    "# Mean squared error code\n",
    "mean_abs_err = mean_absolute_error(predicted_dataframe['true_rating'], predicted_dataframe['predicted_rating'])\n",
    "print('Mean absolute error of ' + alg + ' is:', mean_abs_err)\n",
    "\n",
    "# Precision code\n",
    "avg_precision = dataframe_final['precision_user'].mean()\n",
    "print('Average precision of '+ alg + ' is:', avg_precision)\n",
    "\n",
    "# Recall code\n",
    "avg_recall = dataframe_final['recall_user'].mean()\n",
    "print('Average recall of '+ alg +' is:', avg_recall)\n",
    "\n",
    "# F-measure code\n",
    "mul = 2.0 * avg_precision * avg_recall\n",
    "F_measure = mul / (avg_precision + avg_recall)\n",
    "print('F-measure of '+ alg + ' is:', F_measure)"
   ]
  }
 ],
 "metadata": {
  "colab": {
   "collapsed_sections": [],
   "name": "metrics_all_models.ipynb",
   "provenance": []
  },
  "kernelspec": {
   "display_name": "Python 3",
   "language": "python",
   "name": "python3"
  },
  "language_info": {
   "codemirror_mode": {
    "name": "ipython",
    "version": 3
   },
   "file_extension": ".py",
   "mimetype": "text/x-python",
   "name": "python",
   "nbconvert_exporter": "python",
   "pygments_lexer": "ipython3",
   "version": "3.7.4"
  }
 },
 "nbformat": 4,
 "nbformat_minor": 1
}
